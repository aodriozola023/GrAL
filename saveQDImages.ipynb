{
  "nbformat": 4,
  "nbformat_minor": 0,
  "metadata": {
    "colab": {
      "name": "saveQDImages.ipynb",
      "provenance": [],
      "collapsed_sections": []
    },
    "kernelspec": {
      "name": "python3",
      "display_name": "Python 3"
    },
    "accelerator": "GPU"
  },
  "cells": [
    {
      "cell_type": "code",
      "metadata": {
        "id": "uHCDWALCwMVY",
        "colab_type": "code",
        "colab": {}
      },
      "source": [
        "from google.colab import drive\n",
        "drive.mount('/content/drive', force_remount=True)"
      ],
      "execution_count": null,
      "outputs": []
    },
    {
      "cell_type": "code",
      "metadata": {
        "id": "7G70Xaf9kHmK",
        "colab_type": "code",
        "colab": {}
      },
      "source": [
        "!pip install quickdraw"
      ],
      "execution_count": null,
      "outputs": []
    },
    {
      "cell_type": "code",
      "metadata": {
        "id": "7_0rqUQBvubi",
        "colab_type": "code",
        "colab": {}
      },
      "source": [
        "from quickdraw import QuickDrawData\n",
        "import matplotlib.pyplot as plt\n",
        "import matplotlib.image as mpimg\n",
        "import os\n",
        "import re"
      ],
      "execution_count": 4,
      "outputs": []
    },
    {
      "cell_type": "code",
      "metadata": {
        "id": "ZlT9lqLAj_oy",
        "colab_type": "code",
        "colab": {}
      },
      "source": [
        "with open('/content/drive/My Drive/aukeratutako_kategoriak.txt','r') as f:\n",
        "  data = f.read()\n",
        "  kateg = re.findall(r\"\\.\\ [a-z\\ \\-]*\", data)\n",
        "  for i in range(len(kateg)):\n",
        "    kateg[i] = kateg[i][2:]\n",
        "print(kateg)\n",
        "print(len(kateg))"
      ],
      "execution_count": null,
      "outputs": []
    },
    {
      "cell_type": "code",
      "metadata": {
        "id": "BZ1c3oDRrHSB",
        "colab_type": "code",
        "colab": {}
      },
      "source": [
        "#'heart' Quick, Draw!-ren datu-basean ez dagoenez, zerrendatik kenduko da:\n",
        "kateg.remove('heart')"
      ],
      "execution_count": 7,
      "outputs": []
    },
    {
      "cell_type": "code",
      "metadata": {
        "id": "tNfrjhN_rG1q",
        "colab_type": "code",
        "colab": {}
      },
      "source": [
        "print(kateg)\n",
        "print(len(kateg))"
      ],
      "execution_count": null,
      "outputs": []
    },
    {
      "cell_type": "code",
      "metadata": {
        "id": "AWb_jErVv74J",
        "colab_type": "code",
        "colab": {}
      },
      "source": [
        "qd = QuickDrawData()\n",
        "\n",
        "for element in kateg:\n",
        "  i = 0\n",
        "  % cd /content/drive/My Drive/Marrazkiak/QuickDraw/Irudiak\n",
        "  izena = element.replace(' ', '_')\n",
        "  if (os.path.isdir('/content/drive/My Drive/Marrazkiak/QuickDraw/Irudiak/%s'%(izena))) == False:\n",
        "    !mkdir $izena\n",
        "  for i in range(1,251):\n",
        "    obj = qd.get_drawing(element)\n",
        "    obj.image.save('/content/drive/My Drive/Marrazkiak/QuickDraw/Irudiak/%s/%s.jpg'%(izena,i))"
      ],
      "execution_count": null,
      "outputs": []
    }
  ]
}