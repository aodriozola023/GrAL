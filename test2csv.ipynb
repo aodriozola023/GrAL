{
  "nbformat": 4,
  "nbformat_minor": 0,
  "metadata": {
    "colab": {
      "name": "test2csv.ipynb",
      "provenance": [],
      "collapsed_sections": []
    },
    "kernelspec": {
      "name": "python3",
      "display_name": "Python 3"
    }
  },
  "cells": [
    {
      "cell_type": "code",
      "metadata": {
        "id": "4w8GkDVVjTTz",
        "colab_type": "code",
        "colab": {
          "base_uri": "https://localhost:8080/",
          "height": 122
        },
        "outputId": "bfdd2b49-d194-486f-d222-286bf5bb97e0"
      },
      "source": [
        "from google.colab import drive\n",
        "drive.mount('/content/drive', force_remount=True)"
      ],
      "execution_count": null,
      "outputs": [
        {
          "output_type": "stream",
          "text": [
            "Go to this URL in a browser: https://accounts.google.com/o/oauth2/auth?client_id=947318989803-6bn6qk8qdgf4n4g3pfee6491hc0brc4i.apps.googleusercontent.com&redirect_uri=urn%3aietf%3awg%3aoauth%3a2.0%3aoob&response_type=code&scope=email%20https%3a%2f%2fwww.googleapis.com%2fauth%2fdocs.test%20https%3a%2f%2fwww.googleapis.com%2fauth%2fdrive%20https%3a%2f%2fwww.googleapis.com%2fauth%2fdrive.photos.readonly%20https%3a%2f%2fwww.googleapis.com%2fauth%2fpeopleapi.readonly\n",
            "\n",
            "Enter your authorization code:\n",
            "··········\n",
            "Mounted at /content/drive\n"
          ],
          "name": "stdout"
        }
      ]
    },
    {
      "cell_type": "code",
      "metadata": {
        "id": "C2FKyfyKjLBm",
        "colab_type": "code",
        "colab": {}
      },
      "source": [
        "import csv\n",
        "import glob\n",
        "import re"
      ],
      "execution_count": null,
      "outputs": []
    },
    {
      "cell_type": "code",
      "metadata": {
        "id": "fh1aPXjYmEYy",
        "colab_type": "code",
        "colab": {}
      },
      "source": [
        "test_list = glob.glob(\"/content/drive/My Drive/test/*.jpg\")\n",
        "\n",
        "multzoa = set()\n",
        "\n",
        "for k in range(len(test_list)):\n",
        "  img_path = test_list[k]\n",
        "  izena = img_path[29:]\n",
        "  i = izena.lower().find('_jpg')\n",
        "  iz = izena[:i]\n",
        "  fitx = iz+'.jpg'\n",
        "  multzoa.add(fitx)\n",
        "\n",
        "\n",
        "with open('/content/drive/My Drive/Marrazkiak/Guztia/000_Marrazkiak.csv','r') as f:\n",
        "  with open('/content/drive/My Drive/test/000_testekoak.csv','w') as f_out:\n",
        "    reader = csv.reader(f, delimiter=',')\n",
        "    writer = csv.writer(f_out, delimiter=',')\n",
        "    for row in reader:\n",
        "      if row[0] in multzoa:\n",
        "        writer.writerow(row)\n"
      ],
      "execution_count": null,
      "outputs": []
    },
    {
      "cell_type": "code",
      "metadata": {
        "id": "GC9tJFf-mEQm",
        "colab_type": "code",
        "colab": {}
      },
      "source": [
        "hiztegi = dict()\n",
        "with open('/content/drive/My Drive/test/000_testekoak.csv','r') as f:\n",
        "  reader = csv.reader(f, delimiter=',')\n",
        "  for row in reader:\n",
        "    if row[0] not in hiztegi.keys():\n",
        "      fitx = row[0]\n",
        "      hiztegi[fitx] = [[row[3], row[4], row[5], row[6], row[7]]]\n",
        "    else:\n",
        "      hiztegi[fitx].append([row[3], row[4], row[5], row[6], row[7]])\n",
        "print(hiztegi)"
      ],
      "execution_count": null,
      "outputs": []
    }
  ]
}