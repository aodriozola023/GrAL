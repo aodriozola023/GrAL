{
  "nbformat": 4,
  "nbformat_minor": 0,
  "metadata": {
    "colab": {
      "name": "coco2csv.ipynb",
      "provenance": [],
      "collapsed_sections": []
    },
    "kernelspec": {
      "name": "python3",
      "display_name": "Python 3"
    }
  },
  "cells": [
    {
      "cell_type": "code",
      "metadata": {
        "id": "YljsctGwbs5_",
        "colab_type": "code",
        "colab": {}
      },
      "source": [
        "from google.colab import drive\n",
        "drive.mount('/content/drive')"
      ],
      "execution_count": null,
      "outputs": []
    },
    {
      "cell_type": "code",
      "metadata": {
        "id": "1VIhbpy40E1M",
        "colab_type": "code",
        "colab": {}
      },
      "source": [
        "!pip install parse\n",
        "import parse"
      ],
      "execution_count": null,
      "outputs": []
    },
    {
      "cell_type": "code",
      "metadata": {
        "id": "LmvKMyEdbv2j",
        "colab_type": "code",
        "colab": {}
      },
      "source": [
        "import csv\n",
        "import pandas as pd\n",
        "import re"
      ],
      "execution_count": null,
      "outputs": []
    },
    {
      "cell_type": "code",
      "metadata": {
        "id": "D_9WKpi0cD_m",
        "colab_type": "code",
        "colab": {}
      },
      "source": [
        "with open('/content/drive/My Drive/Marrazkiak/CSV/Marrazkiak_COCO.json','r') as f_coco:\n",
        "  with open('/content/drive/My Drive/Marrazkiak/CSV/Marrazkiak.csv','w', newline='') as f_out:\n",
        "    zerrenda = ['filename', 'width', 'height', 'class', 'xmin', 'ymin', 'xmax', 'ymax']\n",
        "    writer = csv.writer(f_out, delimiter=',')\n",
        "    writer.writerow(zerrenda)\n",
        "    writer.writerow([])\n",
        "            \n",
        "    data_coco = f_coco.read()\n",
        "    hizt = dict()\n",
        "    bilatu = re.findall('\"width\":[0-9]*,\"height\":[0-9]*,\"file_name\":\"[^\\\"]*\"', data_coco)\n",
        "    for elem in bilatu:\n",
        "      buk_w = elem.find(',\"height\"')\n",
        "      w = elem[8:buk_w]\n",
        "      buk_h = elem.find(',\"file')\n",
        "      h = elem[buk_w+10:buk_h]\n",
        "      file = elem[buk_h+14:-1]\n",
        "      hizt[file] = [w, h]\n",
        "    \n",
        "    with open('/content/drive/My Drive/Marrazkiak/CSV/Marrazkiak_proba_2.json','r') as f_json:\n",
        "      data_json = f_json.read()\n",
        "\n",
        "      for elem in hizt.keys():\n",
        "        hasiera = data_json.find('\"%s\"'%(elem))\n",
        "        bukaera = data_json.find('file_attributes', hasiera,)\n",
        "        reg = data_json[hasiera:bukaera]\n",
        "\n",
        "        reg = re.sub(' +',' ', reg)\n",
        "        reg = re.sub('\\n','', reg)\n",
        "        bb = reg.split('\"shape_')\n",
        "        bb.remove(bb[0])\n",
        "\n",
        "        for s in bb:\n",
        "          s = re.sub('[\\{\\}\\[\\] \\,\\\"]', '', s)\n",
        "          result=parse.parse('attributes:name:rectx:{0}y:{1}width:{2}height:{3}region_attributes:name:{4}type:{5}', s)\n",
        "          xmin = result[0]\n",
        "          ymin = result[1]\n",
        "          xmax = str(int(xmin) + int(result[2]))\n",
        "          ymax = str(int(ymin) + int(result[3]))\n",
        "          writer.writerow([elem, hizt[elem][0], hizt[elem][1], result[4], result[0], result[1], xmax, ymax])\n",
        "\n"
      ],
      "execution_count": null,
      "outputs": []
    }
  ]
}